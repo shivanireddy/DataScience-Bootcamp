{
 "cells": [
  {
   "cell_type": "markdown",
   "metadata": {},
   "source": [
    "# Bootcamp Quiz: Pandas"
   ]
  },
  {
   "cell_type": "code",
   "execution_count": 1,
   "metadata": {},
   "outputs": [],
   "source": [
    "import pandas as pd"
   ]
  },
  {
   "cell_type": "code",
   "execution_count": 2,
   "metadata": {},
   "outputs": [],
   "source": [
    "# The top-100 most listened to songs on Spotify in the world  at the end of 2019.\n",
    "\n",
    "df = pd.read_csv(\"spotify_top_100_2019.csv\")"
   ]
  },
  {
   "cell_type": "code",
   "execution_count": 8,
   "metadata": {},
   "outputs": [
    {
     "data": {
      "text/html": [
       "<div>\n",
       "<style scoped>\n",
       "    .dataframe tbody tr th:only-of-type {\n",
       "        vertical-align: middle;\n",
       "    }\n",
       "\n",
       "    .dataframe tbody tr th {\n",
       "        vertical-align: top;\n",
       "    }\n",
       "\n",
       "    .dataframe thead th {\n",
       "        text-align: right;\n",
       "    }\n",
       "</style>\n",
       "<table border=\"1\" class=\"dataframe\">\n",
       "  <thead>\n",
       "    <tr style=\"text-align: right;\">\n",
       "      <th></th>\n",
       "      <th>title</th>\n",
       "      <th>artist</th>\n",
       "      <th>top genre</th>\n",
       "      <th>year</th>\n",
       "      <th>bpm</th>\n",
       "      <th>energy</th>\n",
       "      <th>danceability</th>\n",
       "      <th>loudness</th>\n",
       "      <th>liveness</th>\n",
       "      <th>valence</th>\n",
       "      <th>duration_s</th>\n",
       "      <th>acousticness</th>\n",
       "      <th>speechiness</th>\n",
       "      <th>popularity</th>\n",
       "    </tr>\n",
       "  </thead>\n",
       "  <tbody>\n",
       "    <tr>\n",
       "      <td>0</td>\n",
       "      <td>Believer</td>\n",
       "      <td>Imagine Dragons</td>\n",
       "      <td>modern rock</td>\n",
       "      <td>2017</td>\n",
       "      <td>125</td>\n",
       "      <td>78</td>\n",
       "      <td>78</td>\n",
       "      <td>-4</td>\n",
       "      <td>8</td>\n",
       "      <td>67</td>\n",
       "      <td>204</td>\n",
       "      <td>6</td>\n",
       "      <td>13</td>\n",
       "      <td>88</td>\n",
       "    </tr>\n",
       "    <tr>\n",
       "      <td>1</td>\n",
       "      <td>Perfect</td>\n",
       "      <td>Ed Sheeran</td>\n",
       "      <td>pop</td>\n",
       "      <td>2017</td>\n",
       "      <td>95</td>\n",
       "      <td>45</td>\n",
       "      <td>60</td>\n",
       "      <td>-6</td>\n",
       "      <td>11</td>\n",
       "      <td>17</td>\n",
       "      <td>263</td>\n",
       "      <td>16</td>\n",
       "      <td>2</td>\n",
       "      <td>86</td>\n",
       "    </tr>\n",
       "    <tr>\n",
       "      <td>2</td>\n",
       "      <td>goosebumps</td>\n",
       "      <td>Travis Scott</td>\n",
       "      <td>rap</td>\n",
       "      <td>2016</td>\n",
       "      <td>130</td>\n",
       "      <td>73</td>\n",
       "      <td>84</td>\n",
       "      <td>-3</td>\n",
       "      <td>15</td>\n",
       "      <td>43</td>\n",
       "      <td>244</td>\n",
       "      <td>8</td>\n",
       "      <td>5</td>\n",
       "      <td>86</td>\n",
       "    </tr>\n",
       "    <tr>\n",
       "      <td>3</td>\n",
       "      <td>Shape of You</td>\n",
       "      <td>Ed Sheeran</td>\n",
       "      <td>pop</td>\n",
       "      <td>2017</td>\n",
       "      <td>96</td>\n",
       "      <td>65</td>\n",
       "      <td>83</td>\n",
       "      <td>-3</td>\n",
       "      <td>9</td>\n",
       "      <td>93</td>\n",
       "      <td>234</td>\n",
       "      <td>58</td>\n",
       "      <td>8</td>\n",
       "      <td>86</td>\n",
       "    </tr>\n",
       "    <tr>\n",
       "      <td>4</td>\n",
       "      <td>Closer (feat. Halsey)</td>\n",
       "      <td>The Chainsmokers</td>\n",
       "      <td>electropop</td>\n",
       "      <td>2016</td>\n",
       "      <td>95</td>\n",
       "      <td>52</td>\n",
       "      <td>75</td>\n",
       "      <td>-6</td>\n",
       "      <td>11</td>\n",
       "      <td>66</td>\n",
       "      <td>245</td>\n",
       "      <td>41</td>\n",
       "      <td>3</td>\n",
       "      <td>85</td>\n",
       "    </tr>\n",
       "    <tr>\n",
       "      <td>...</td>\n",
       "      <td>...</td>\n",
       "      <td>...</td>\n",
       "      <td>...</td>\n",
       "      <td>...</td>\n",
       "      <td>...</td>\n",
       "      <td>...</td>\n",
       "      <td>...</td>\n",
       "      <td>...</td>\n",
       "      <td>...</td>\n",
       "      <td>...</td>\n",
       "      <td>...</td>\n",
       "      <td>...</td>\n",
       "      <td>...</td>\n",
       "      <td>...</td>\n",
       "    </tr>\n",
       "    <tr>\n",
       "      <td>95</td>\n",
       "      <td>One Dance</td>\n",
       "      <td>Drake</td>\n",
       "      <td>canadian hip hop</td>\n",
       "      <td>2016</td>\n",
       "      <td>104</td>\n",
       "      <td>61</td>\n",
       "      <td>79</td>\n",
       "      <td>-6</td>\n",
       "      <td>32</td>\n",
       "      <td>43</td>\n",
       "      <td>174</td>\n",
       "      <td>1</td>\n",
       "      <td>6</td>\n",
       "      <td>52</td>\n",
       "    </tr>\n",
       "    <tr>\n",
       "      <td>96</td>\n",
       "      <td>Attention</td>\n",
       "      <td>Charlie Puth</td>\n",
       "      <td>dance pop</td>\n",
       "      <td>2017</td>\n",
       "      <td>100</td>\n",
       "      <td>63</td>\n",
       "      <td>77</td>\n",
       "      <td>-4</td>\n",
       "      <td>8</td>\n",
       "      <td>78</td>\n",
       "      <td>211</td>\n",
       "      <td>10</td>\n",
       "      <td>4</td>\n",
       "      <td>23</td>\n",
       "    </tr>\n",
       "    <tr>\n",
       "      <td>97</td>\n",
       "      <td>Me RehÃºso</td>\n",
       "      <td>Danny Ocean</td>\n",
       "      <td>latin</td>\n",
       "      <td>2016</td>\n",
       "      <td>105</td>\n",
       "      <td>79</td>\n",
       "      <td>75</td>\n",
       "      <td>-6</td>\n",
       "      <td>5</td>\n",
       "      <td>45</td>\n",
       "      <td>206</td>\n",
       "      <td>3</td>\n",
       "      <td>7</td>\n",
       "      <td>11</td>\n",
       "    </tr>\n",
       "    <tr>\n",
       "      <td>98</td>\n",
       "      <td>XO TOUR Llif3</td>\n",
       "      <td>Lil Uzi Vert</td>\n",
       "      <td>melodic rap</td>\n",
       "      <td>2017</td>\n",
       "      <td>155</td>\n",
       "      <td>75</td>\n",
       "      <td>73</td>\n",
       "      <td>-6</td>\n",
       "      <td>11</td>\n",
       "      <td>40</td>\n",
       "      <td>183</td>\n",
       "      <td>0</td>\n",
       "      <td>23</td>\n",
       "      <td>11</td>\n",
       "    </tr>\n",
       "    <tr>\n",
       "      <td>99</td>\n",
       "      <td>Tuesday</td>\n",
       "      <td>Burak Yeter</td>\n",
       "      <td>electro house</td>\n",
       "      <td>2016</td>\n",
       "      <td>99</td>\n",
       "      <td>64</td>\n",
       "      <td>84</td>\n",
       "      <td>-6</td>\n",
       "      <td>5</td>\n",
       "      <td>68</td>\n",
       "      <td>242</td>\n",
       "      <td>2</td>\n",
       "      <td>7</td>\n",
       "      <td>4</td>\n",
       "    </tr>\n",
       "  </tbody>\n",
       "</table>\n",
       "<p>100 rows × 14 columns</p>\n",
       "</div>"
      ],
      "text/plain": [
       "                    title            artist         top genre  year  bpm  \\\n",
       "0                Believer   Imagine Dragons       modern rock  2017  125   \n",
       "1                 Perfect        Ed Sheeran               pop  2017   95   \n",
       "2              goosebumps      Travis Scott               rap  2016  130   \n",
       "3            Shape of You        Ed Sheeran               pop  2017   96   \n",
       "4   Closer (feat. Halsey)  The Chainsmokers        electropop  2016   95   \n",
       "..                    ...               ...               ...   ...  ...   \n",
       "95              One Dance             Drake  canadian hip hop  2016  104   \n",
       "96              Attention      Charlie Puth         dance pop  2017  100   \n",
       "97             Me RehÃºso       Danny Ocean             latin  2016  105   \n",
       "98          XO TOUR Llif3      Lil Uzi Vert       melodic rap  2017  155   \n",
       "99                Tuesday       Burak Yeter     electro house  2016   99   \n",
       "\n",
       "    energy  danceability  loudness  liveness  valence  duration_s  \\\n",
       "0       78            78        -4         8       67         204   \n",
       "1       45            60        -6        11       17         263   \n",
       "2       73            84        -3        15       43         244   \n",
       "3       65            83        -3         9       93         234   \n",
       "4       52            75        -6        11       66         245   \n",
       "..     ...           ...       ...       ...      ...         ...   \n",
       "95      61            79        -6        32       43         174   \n",
       "96      63            77        -4         8       78         211   \n",
       "97      79            75        -6         5       45         206   \n",
       "98      75            73        -6        11       40         183   \n",
       "99      64            84        -6         5       68         242   \n",
       "\n",
       "    acousticness  speechiness  popularity   \n",
       "0              6           13           88  \n",
       "1             16            2           86  \n",
       "2              8            5           86  \n",
       "3             58            8           86  \n",
       "4             41            3           85  \n",
       "..           ...          ...          ...  \n",
       "95             1            6           52  \n",
       "96            10            4           23  \n",
       "97             3            7           11  \n",
       "98             0           23           11  \n",
       "99             2            7            4  \n",
       "\n",
       "[100 rows x 14 columns]"
      ]
     },
     "execution_count": 8,
     "metadata": {},
     "output_type": "execute_result"
    }
   ],
   "source": [
    "df"
   ]
  },
  {
   "cell_type": "markdown",
   "metadata": {},
   "source": [
    "### How many samples (rows) are in the dataset?"
   ]
  },
  {
   "cell_type": "code",
   "execution_count": 3,
   "metadata": {},
   "outputs": [
    {
     "data": {
      "text/plain": [
       "100"
      ]
     },
     "execution_count": 3,
     "metadata": {},
     "output_type": "execute_result"
    }
   ],
   "source": [
    "df.shape[0]"
   ]
  },
  {
   "cell_type": "markdown",
   "metadata": {},
   "source": [
    "### How many features are in the dataset?"
   ]
  },
  {
   "cell_type": "code",
   "execution_count": 4,
   "metadata": {},
   "outputs": [
    {
     "data": {
      "text/plain": [
       "14"
      ]
     },
     "execution_count": 4,
     "metadata": {},
     "output_type": "execute_result"
    }
   ],
   "source": [
    "df.shape[1]"
   ]
  },
  {
   "cell_type": "markdown",
   "metadata": {},
   "source": [
    "### Which is the Pandas method to get a summary of the data?"
   ]
  },
  {
   "cell_type": "code",
   "execution_count": 7,
   "metadata": {},
   "outputs": [
    {
     "data": {
      "text/html": [
       "<div>\n",
       "<style scoped>\n",
       "    .dataframe tbody tr th:only-of-type {\n",
       "        vertical-align: middle;\n",
       "    }\n",
       "\n",
       "    .dataframe tbody tr th {\n",
       "        vertical-align: top;\n",
       "    }\n",
       "\n",
       "    .dataframe thead th {\n",
       "        text-align: right;\n",
       "    }\n",
       "</style>\n",
       "<table border=\"1\" class=\"dataframe\">\n",
       "  <thead>\n",
       "    <tr style=\"text-align: right;\">\n",
       "      <th></th>\n",
       "      <th>year</th>\n",
       "      <th>bpm</th>\n",
       "      <th>energy</th>\n",
       "      <th>danceability</th>\n",
       "      <th>loudness</th>\n",
       "      <th>liveness</th>\n",
       "      <th>valence</th>\n",
       "      <th>duration_s</th>\n",
       "      <th>acousticness</th>\n",
       "      <th>speechiness</th>\n",
       "      <th>popularity</th>\n",
       "    </tr>\n",
       "  </thead>\n",
       "  <tbody>\n",
       "    <tr>\n",
       "      <td>count</td>\n",
       "      <td>100.000000</td>\n",
       "      <td>100.00000</td>\n",
       "      <td>100.000000</td>\n",
       "      <td>100.000000</td>\n",
       "      <td>100.000000</td>\n",
       "      <td>100.000000</td>\n",
       "      <td>100.000000</td>\n",
       "      <td>100.000000</td>\n",
       "      <td>100.000000</td>\n",
       "      <td>100.000000</td>\n",
       "      <td>100.000000</td>\n",
       "    </tr>\n",
       "    <tr>\n",
       "      <td>mean</td>\n",
       "      <td>2016.880000</td>\n",
       "      <td>118.77000</td>\n",
       "      <td>65.290000</td>\n",
       "      <td>70.400000</td>\n",
       "      <td>-5.830000</td>\n",
       "      <td>15.590000</td>\n",
       "      <td>52.400000</td>\n",
       "      <td>223.530000</td>\n",
       "      <td>17.260000</td>\n",
       "      <td>11.020000</td>\n",
       "      <td>72.020000</td>\n",
       "    </tr>\n",
       "    <tr>\n",
       "      <td>std</td>\n",
       "      <td>0.655667</td>\n",
       "      <td>29.09089</td>\n",
       "      <td>14.967504</td>\n",
       "      <td>12.412115</td>\n",
       "      <td>1.985071</td>\n",
       "      <td>9.760873</td>\n",
       "      <td>22.124533</td>\n",
       "      <td>36.616344</td>\n",
       "      <td>18.393905</td>\n",
       "      <td>9.643106</td>\n",
       "      <td>14.088451</td>\n",
       "    </tr>\n",
       "    <tr>\n",
       "      <td>min</td>\n",
       "      <td>2015.000000</td>\n",
       "      <td>75.00000</td>\n",
       "      <td>26.000000</td>\n",
       "      <td>36.000000</td>\n",
       "      <td>-11.000000</td>\n",
       "      <td>5.000000</td>\n",
       "      <td>9.000000</td>\n",
       "      <td>126.000000</td>\n",
       "      <td>0.000000</td>\n",
       "      <td>2.000000</td>\n",
       "      <td>4.000000</td>\n",
       "    </tr>\n",
       "    <tr>\n",
       "      <td>25%</td>\n",
       "      <td>2017.000000</td>\n",
       "      <td>99.00000</td>\n",
       "      <td>56.000000</td>\n",
       "      <td>63.750000</td>\n",
       "      <td>-7.000000</td>\n",
       "      <td>9.000000</td>\n",
       "      <td>39.250000</td>\n",
       "      <td>204.750000</td>\n",
       "      <td>4.500000</td>\n",
       "      <td>5.000000</td>\n",
       "      <td>70.000000</td>\n",
       "    </tr>\n",
       "    <tr>\n",
       "      <td>50%</td>\n",
       "      <td>2017.000000</td>\n",
       "      <td>106.50000</td>\n",
       "      <td>66.500000</td>\n",
       "      <td>72.500000</td>\n",
       "      <td>-6.000000</td>\n",
       "      <td>12.000000</td>\n",
       "      <td>50.500000</td>\n",
       "      <td>220.000000</td>\n",
       "      <td>11.000000</td>\n",
       "      <td>7.500000</td>\n",
       "      <td>74.500000</td>\n",
       "    </tr>\n",
       "    <tr>\n",
       "      <td>75%</td>\n",
       "      <td>2017.000000</td>\n",
       "      <td>135.25000</td>\n",
       "      <td>78.000000</td>\n",
       "      <td>77.250000</td>\n",
       "      <td>-4.000000</td>\n",
       "      <td>19.000000</td>\n",
       "      <td>68.500000</td>\n",
       "      <td>237.250000</td>\n",
       "      <td>24.250000</td>\n",
       "      <td>13.000000</td>\n",
       "      <td>79.000000</td>\n",
       "    </tr>\n",
       "    <tr>\n",
       "      <td>max</td>\n",
       "      <td>2019.000000</td>\n",
       "      <td>190.00000</td>\n",
       "      <td>96.000000</td>\n",
       "      <td>93.000000</td>\n",
       "      <td>-2.000000</td>\n",
       "      <td>64.000000</td>\n",
       "      <td>97.000000</td>\n",
       "      <td>343.000000</td>\n",
       "      <td>97.000000</td>\n",
       "      <td>49.000000</td>\n",
       "      <td>88.000000</td>\n",
       "    </tr>\n",
       "  </tbody>\n",
       "</table>\n",
       "</div>"
      ],
      "text/plain": [
       "              year        bpm      energy  danceability    loudness  \\\n",
       "count   100.000000  100.00000  100.000000    100.000000  100.000000   \n",
       "mean   2016.880000  118.77000   65.290000     70.400000   -5.830000   \n",
       "std       0.655667   29.09089   14.967504     12.412115    1.985071   \n",
       "min    2015.000000   75.00000   26.000000     36.000000  -11.000000   \n",
       "25%    2017.000000   99.00000   56.000000     63.750000   -7.000000   \n",
       "50%    2017.000000  106.50000   66.500000     72.500000   -6.000000   \n",
       "75%    2017.000000  135.25000   78.000000     77.250000   -4.000000   \n",
       "max    2019.000000  190.00000   96.000000     93.000000   -2.000000   \n",
       "\n",
       "         liveness     valence  duration_s  acousticness  speechiness  \\\n",
       "count  100.000000  100.000000  100.000000    100.000000   100.000000   \n",
       "mean    15.590000   52.400000  223.530000     17.260000    11.020000   \n",
       "std      9.760873   22.124533   36.616344     18.393905     9.643106   \n",
       "min      5.000000    9.000000  126.000000      0.000000     2.000000   \n",
       "25%      9.000000   39.250000  204.750000      4.500000     5.000000   \n",
       "50%     12.000000   50.500000  220.000000     11.000000     7.500000   \n",
       "75%     19.000000   68.500000  237.250000     24.250000    13.000000   \n",
       "max     64.000000   97.000000  343.000000     97.000000    49.000000   \n",
       "\n",
       "       popularity   \n",
       "count   100.000000  \n",
       "mean     72.020000  \n",
       "std      14.088451  \n",
       "min       4.000000  \n",
       "25%      70.000000  \n",
       "50%      74.500000  \n",
       "75%      79.000000  \n",
       "max      88.000000  "
      ]
     },
     "execution_count": 7,
     "metadata": {},
     "output_type": "execute_result"
    }
   ],
   "source": [
    "df.describe()"
   ]
  },
  {
   "cell_type": "markdown",
   "metadata": {},
   "source": [
    "### What is the median duration of the songs (in seconds)?"
   ]
  },
  {
   "cell_type": "code",
   "execution_count": 9,
   "metadata": {},
   "outputs": [
    {
     "data": {
      "text/plain": [
       "220.0"
      ]
     },
     "execution_count": 9,
     "metadata": {},
     "output_type": "execute_result"
    }
   ],
   "source": [
    "df[\"duration_s\"].median()"
   ]
  },
  {
   "cell_type": "markdown",
   "metadata": {},
   "source": [
    "### What year is the oldest for a song in the 2019 Top 100?"
   ]
  },
  {
   "cell_type": "code",
   "execution_count": 51,
   "metadata": {},
   "outputs": [
    {
     "data": {
      "text/plain": [
       "33    2015\n",
       "Name: year, dtype: int64"
      ]
     },
     "execution_count": 51,
     "metadata": {},
     "output_type": "execute_result"
    }
   ],
   "source": [
    "df.loc[df['year']==df['year'].min(), 'year']"
   ]
  },
  {
   "cell_type": "markdown",
   "metadata": {},
   "source": [
    "### How many unique genres are there?"
   ]
  },
  {
   "cell_type": "code",
   "execution_count": 29,
   "metadata": {},
   "outputs": [
    {
     "data": {
      "text/plain": [
       "31"
      ]
     },
     "execution_count": 29,
     "metadata": {},
     "output_type": "execute_result"
    }
   ],
   "source": [
    "df['top genre'].nunique()"
   ]
  },
  {
   "cell_type": "markdown",
   "metadata": {},
   "source": [
    "### Which genre has the most songs in the Top-100?"
   ]
  },
  {
   "cell_type": "code",
   "execution_count": 24,
   "metadata": {},
   "outputs": [
    {
     "data": {
      "text/plain": [
       "dance pop    29\n",
       "Name: top genre, dtype: int64"
      ]
     },
     "execution_count": 24,
     "metadata": {},
     "output_type": "execute_result"
    }
   ],
   "source": [
    "df['top genre'].value_counts().head(1)"
   ]
  },
  {
   "cell_type": "markdown",
   "metadata": {},
   "source": [
    "### What is the most common beats per minute (bpm) among the songs?"
   ]
  },
  {
   "cell_type": "code",
   "execution_count": 33,
   "metadata": {},
   "outputs": [
    {
     "data": {
      "text/plain": [
       "0    100\n",
       "dtype: int64"
      ]
     },
     "execution_count": 33,
     "metadata": {},
     "output_type": "execute_result"
    }
   ],
   "source": [
    "df.loc[:,'bpm'].mode()"
   ]
  },
  {
   "cell_type": "markdown",
   "metadata": {},
   "source": [
    "### What is the maximum bpm for a song from the genre with the most songs?"
   ]
  },
  {
   "cell_type": "code",
   "execution_count": 36,
   "metadata": {},
   "outputs": [
    {
     "data": {
      "text/plain": [
       "190"
      ]
     },
     "execution_count": 36,
     "metadata": {},
     "output_type": "execute_result"
    }
   ],
   "source": [
    "df.loc[(df['top genre']=='dance pop'),'bpm'].max()"
   ]
  },
  {
   "cell_type": "markdown",
   "metadata": {},
   "source": [
    "### Which artist has the song with the most spoken words (\"speechiness\")?"
   ]
  },
  {
   "cell_type": "code",
   "execution_count": 45,
   "metadata": {},
   "outputs": [
    {
     "data": {
      "text/plain": [
       "62    Kendrick Lamar\n",
       "Name: artist, dtype: object"
      ]
     },
     "execution_count": 45,
     "metadata": {},
     "output_type": "execute_result"
    }
   ],
   "source": [
    "df.loc[df['speechiness']==df['speechiness'].max(),'artist']"
   ]
  },
  {
   "cell_type": "code",
   "execution_count": null,
   "metadata": {},
   "outputs": [],
   "source": []
  }
 ],
 "metadata": {
  "kernelspec": {
   "display_name": "Python 3",
   "language": "python",
   "name": "python3"
  },
  "language_info": {
   "codemirror_mode": {
    "name": "ipython",
    "version": 3
   },
   "file_extension": ".py",
   "mimetype": "text/x-python",
   "name": "python",
   "nbconvert_exporter": "python",
   "pygments_lexer": "ipython3",
   "version": "3.7.4"
  }
 },
 "nbformat": 4,
 "nbformat_minor": 2
}
